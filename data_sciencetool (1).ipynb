{
 "cells": [
  {
   "cell_type": "markdown",
   "id": "98e3ab29-76b4-4f87-873d-e692b6cbd343",
   "metadata": {},
   "source": [
    "# Data Science Notebook\n"
   ]
  },
  {
   "cell_type": "markdown",
   "id": "2bbf3fd4-77b0-4229-bf65-c288d8187c43",
   "metadata": {},
   "source": [
    "## Objectives :\n",
    "1. List popular languages for Data Science\n",
    "2. list data science libraries\n",
    "3. Convert time from minutes to hours\n",
    "4. Create and format tables in Markdown"
   ]
  },
  {
   "cell_type": "markdown",
   "id": "8c0a3a12-9091-4130-892b-87af4f2f7771",
   "metadata": {},
   "source": [
    "## list of some data science languages,such as :\n",
    "1. Python\n",
    "2. R\n",
    "3. SQL"
   ]
  },
  {
   "cell_type": "markdown",
   "id": "d161e5bc-8581-4d98-9f1f-d108de9f5460",
   "metadata": {},
   "source": [
    "## List of Data Science Libraries,such as :\n",
    "1. numpy\n",
    "2. pandas\n",
    "3. tensorflow\n"
   ]
  },
  {
   "cell_type": "markdown",
   "id": "f52ad915-f15c-49ce-8095-ce14861b0e16",
   "metadata": {},
   "source": [
    "|Data Science Tools|\n",
    "--------------------\n",
    "|ApacheSpark       |\n",
    "|TensorFlow        |\n",
    "|Hadoop|\n",
    "\n",
    "\n"
   ]
  },
  {
   "cell_type": "code",
   "execution_count": 5,
   "id": "9fc982f9-82c7-473b-8ae1-d9f919239f5d",
   "metadata": {},
   "outputs": [
    {
     "name": "stdout",
     "output_type": "stream",
     "text": [
      "17\n"
     ]
    }
   ],
   "source": [
    "# A simple code cell showcasing Multiplication and Addition\n",
    "question=(3*4)+5\n",
    "print(question)"
   ]
  },
  {
   "cell_type": "code",
   "execution_count": 2,
   "id": "b48ade21-3e18-4d1b-a64c-d21ebf3346b7",
   "metadata": {},
   "outputs": [
    {
     "name": "stdout",
     "output_type": "stream",
     "text": [
      "3.3333333333333335\n"
     ]
    }
   ],
   "source": [
    "#This will convert 200 minutes to hours by diving by 60\n",
    "minutes = 200\n",
    "hours = minutes / 60\n",
    "print(hours)\n"
   ]
  },
  {
   "cell_type": "markdown",
   "id": "c1f381f4-4885-4d94-bc4a-b067de3799dc",
   "metadata": {
    "jp-MarkdownHeadingCollapsed": true
   },
   "source": [
    "## Author\n",
    "Al Bani Abimanyu"
   ]
  }
 ],
 "metadata": {
  "kernelspec": {
   "display_name": "Python 3 (ipykernel)",
   "language": "python",
   "name": "python3"
  },
  "language_info": {
   "codemirror_mode": {
    "name": "ipython",
    "version": 3
   },
   "file_extension": ".py",
   "mimetype": "text/x-python",
   "name": "python",
   "nbconvert_exporter": "python",
   "pygments_lexer": "ipython3",
   "version": "3.11.7"
  }
 },
 "nbformat": 4,
 "nbformat_minor": 5
}
